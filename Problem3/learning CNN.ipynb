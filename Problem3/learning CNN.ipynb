{
 "cells": [
  {
   "cell_type": "code",
   "execution_count": 1,
   "id": "f0eb3817",
   "metadata": {},
   "outputs": [
    {
     "name": "stderr",
     "output_type": "stream",
     "text": [
      "2022-07-18 04:59:14.107505: W tensorflow/stream_executor/platform/default/dso_loader.cc:64] Could not load dynamic library 'libcudart.so.11.0'; dlerror: libcudart.so.11.0: cannot open shared object file: No such file or directory; LD_LIBRARY_PATH: /opt/ros/noetic/lib\n",
      "2022-07-18 04:59:14.107542: I tensorflow/stream_executor/cuda/cudart_stub.cc:29] Ignore above cudart dlerror if you do not have a GPU set up on your machine.\n"
     ]
    }
   ],
   "source": [
    "import tensorflow as tf\n",
    "from keras.preprocessing.image import ImageDataGenerator"
   ]
  },
  {
   "cell_type": "code",
   "execution_count": 3,
   "id": "99497308",
   "metadata": {},
   "outputs": [],
   "source": [
    "train_datagen = ImageDataGenerator(\n",
    "                rescale=1./255,\n",
    "                shear_range=0.2,\n",
    "                zoom_range=0.2,\n",
    "                horizontal_flip=True)"
   ]
  },
  {
   "cell_type": "code",
   "execution_count": 4,
   "id": "1f559a42",
   "metadata": {},
   "outputs": [
    {
     "name": "stdout",
     "output_type": "stream",
     "text": [
      "Found 8000 images belonging to 2 classes.\n"
     ]
    }
   ],
   "source": [
    "training_set = train_datagen.flow_from_directory(\n",
    "                'dataset/training_set',\n",
    "                target_size=(64,64),\n",
    "                batch_size=32,\n",
    "                class_mode='binary')"
   ]
  },
  {
   "cell_type": "code",
   "execution_count": 8,
   "id": "e91645b5",
   "metadata": {},
   "outputs": [],
   "source": [
    "test_datagen = ImageDataGenerator(rescale=1./255)"
   ]
  },
  {
   "cell_type": "code",
   "execution_count": 9,
   "id": "3d663000",
   "metadata": {},
   "outputs": [
    {
     "name": "stdout",
     "output_type": "stream",
     "text": [
      "Found 2000 images belonging to 2 classes.\n"
     ]
    }
   ],
   "source": [
    "test_set = test_datagen.flow_from_directory(\n",
    "            'dataset/test_set',\n",
    "            target_size=(64,64),\n",
    "            batch_size=32,\n",
    "            class_mode='binary')"
   ]
  },
  {
   "cell_type": "code",
   "execution_count": 10,
   "id": "467aa472",
   "metadata": {},
   "outputs": [
    {
     "name": "stderr",
     "output_type": "stream",
     "text": [
      "2022-07-18 05:18:35.668021: E tensorflow/stream_executor/cuda/cuda_driver.cc:271] failed call to cuInit: CUDA_ERROR_NO_DEVICE: no CUDA-capable device is detected\n",
      "2022-07-18 05:18:35.668070: I tensorflow/stream_executor/cuda/cuda_diagnostics.cc:156] kernel driver does not appear to be running on this host (shivam-IdeaPad-Gaming-3-15ARH05): /proc/driver/nvidia/version does not exist\n",
      "2022-07-18 05:18:35.671221: I tensorflow/core/platform/cpu_feature_guard.cc:193] This TensorFlow binary is optimized with oneAPI Deep Neural Network Library (oneDNN) to use the following CPU instructions in performance-critical operations:  AVX2 FMA\n",
      "To enable them in other operations, rebuild TensorFlow with the appropriate compiler flags.\n"
     ]
    }
   ],
   "source": [
    "cnn = tf.keras.models.Sequential()\n",
    "cnn.add(tf.keras.layers.Conv2D(filters=32, kernel_size=3, activation='relu', input_shape=[64,64,3]))\n",
    "cnn.add(tf.keras.layers.MaxPool2D(pool_size=2, strides=2))"
   ]
  },
  {
   "cell_type": "code",
   "execution_count": 11,
   "id": "72e88d48",
   "metadata": {},
   "outputs": [],
   "source": [
    "cnn.add(tf.keras.layers.Conv2D(filters=32, kernel_size=3, activation='relu'))\n",
    "cnn.add(tf.keras.layers.MaxPool2D(pool_size=2, strides=2))"
   ]
  },
  {
   "cell_type": "code",
   "execution_count": 13,
   "id": "bcd8a7d0",
   "metadata": {},
   "outputs": [],
   "source": [
    "cnn.add(tf.keras.layers.Flatten())"
   ]
  },
  {
   "cell_type": "code",
   "execution_count": 14,
   "id": "21e675c3",
   "metadata": {},
   "outputs": [],
   "source": [
    "cnn.add(tf.keras.layers.Dense(units=128, activation='relu'))\n",
    "cnn.add(tf.keras.layers.Dense(units=1, activation='sigmoid'))"
   ]
  },
  {
   "cell_type": "code",
   "execution_count": 15,
   "id": "6e764746",
   "metadata": {},
   "outputs": [],
   "source": [
    "cnn.compile(optimizer='adam', loss='binary_crossentropy', metrics=['accuracy'])"
   ]
  },
  {
   "cell_type": "code",
   "execution_count": 16,
   "id": "8c8480b6",
   "metadata": {},
   "outputs": [
    {
     "name": "stdout",
     "output_type": "stream",
     "text": [
      "Epoch 1/25\n",
      "250/250 [==============================] - 40s 159ms/step - loss: 0.6781 - accuracy: 0.5691 - val_loss: 0.6054 - val_accuracy: 0.6595\n",
      "Epoch 2/25\n",
      "250/250 [==============================] - 38s 150ms/step - loss: 0.6049 - accuracy: 0.6690 - val_loss: 0.5555 - val_accuracy: 0.7170\n",
      "Epoch 3/25\n",
      "250/250 [==============================] - 36s 146ms/step - loss: 0.5696 - accuracy: 0.7024 - val_loss: 0.5414 - val_accuracy: 0.7420\n",
      "Epoch 4/25\n",
      "250/250 [==============================] - 36s 146ms/step - loss: 0.5351 - accuracy: 0.7340 - val_loss: 0.5393 - val_accuracy: 0.7380\n",
      "Epoch 5/25\n",
      "250/250 [==============================] - 32s 130ms/step - loss: 0.5245 - accuracy: 0.7361 - val_loss: 0.5092 - val_accuracy: 0.7535\n",
      "Epoch 6/25\n",
      "250/250 [==============================] - 31s 124ms/step - loss: 0.4979 - accuracy: 0.7609 - val_loss: 0.4988 - val_accuracy: 0.7675\n",
      "Epoch 7/25\n",
      "250/250 [==============================] - 31s 125ms/step - loss: 0.4761 - accuracy: 0.7726 - val_loss: 0.4816 - val_accuracy: 0.7795\n",
      "Epoch 8/25\n",
      "250/250 [==============================] - 31s 124ms/step - loss: 0.4548 - accuracy: 0.7774 - val_loss: 0.4585 - val_accuracy: 0.7830\n",
      "Epoch 9/25\n",
      "250/250 [==============================] - 31s 124ms/step - loss: 0.4465 - accuracy: 0.7878 - val_loss: 0.4752 - val_accuracy: 0.7745\n",
      "Epoch 10/25\n",
      "250/250 [==============================] - 31s 124ms/step - loss: 0.4310 - accuracy: 0.7952 - val_loss: 0.4440 - val_accuracy: 0.8000\n",
      "Epoch 11/25\n",
      "250/250 [==============================] - 31s 125ms/step - loss: 0.4128 - accuracy: 0.8048 - val_loss: 0.4509 - val_accuracy: 0.7990\n",
      "Epoch 12/25\n",
      "250/250 [==============================] - 34s 135ms/step - loss: 0.4053 - accuracy: 0.8152 - val_loss: 0.4595 - val_accuracy: 0.7940\n",
      "Epoch 13/25\n",
      "250/250 [==============================] - 34s 137ms/step - loss: 0.3960 - accuracy: 0.8201 - val_loss: 0.4419 - val_accuracy: 0.8020\n",
      "Epoch 14/25\n",
      "250/250 [==============================] - 33s 133ms/step - loss: 0.3810 - accuracy: 0.8261 - val_loss: 0.4479 - val_accuracy: 0.8065\n",
      "Epoch 15/25\n",
      "250/250 [==============================] - 33s 134ms/step - loss: 0.3753 - accuracy: 0.8299 - val_loss: 0.4566 - val_accuracy: 0.8010\n",
      "Epoch 16/25\n",
      "250/250 [==============================] - 33s 133ms/step - loss: 0.3672 - accuracy: 0.8359 - val_loss: 0.4590 - val_accuracy: 0.8035\n",
      "Epoch 17/25\n",
      "250/250 [==============================] - 32s 130ms/step - loss: 0.3510 - accuracy: 0.8434 - val_loss: 0.4544 - val_accuracy: 0.8070\n",
      "Epoch 18/25\n",
      "250/250 [==============================] - 33s 134ms/step - loss: 0.3395 - accuracy: 0.8444 - val_loss: 0.4822 - val_accuracy: 0.7905\n",
      "Epoch 19/25\n",
      "250/250 [==============================] - 33s 133ms/step - loss: 0.3350 - accuracy: 0.8495 - val_loss: 0.4543 - val_accuracy: 0.8070\n",
      "Epoch 20/25\n",
      "250/250 [==============================] - 33s 133ms/step - loss: 0.3249 - accuracy: 0.8562 - val_loss: 0.4390 - val_accuracy: 0.8175\n",
      "Epoch 21/25\n",
      "250/250 [==============================] - 33s 134ms/step - loss: 0.3222 - accuracy: 0.8569 - val_loss: 0.4760 - val_accuracy: 0.8035\n",
      "Epoch 22/25\n",
      "250/250 [==============================] - 33s 133ms/step - loss: 0.3080 - accuracy: 0.8635 - val_loss: 0.4558 - val_accuracy: 0.8100\n",
      "Epoch 23/25\n",
      "250/250 [==============================] - 32s 129ms/step - loss: 0.3039 - accuracy: 0.8698 - val_loss: 0.5074 - val_accuracy: 0.7925\n",
      "Epoch 24/25\n",
      "250/250 [==============================] - 31s 124ms/step - loss: 0.2892 - accuracy: 0.8734 - val_loss: 0.4549 - val_accuracy: 0.8115\n",
      "Epoch 25/25\n",
      "250/250 [==============================] - 31s 125ms/step - loss: 0.2868 - accuracy: 0.8746 - val_loss: 0.4923 - val_accuracy: 0.7980\n"
     ]
    },
    {
     "data": {
      "text/plain": [
       "<keras.callbacks.History at 0x7fd880bddee0>"
      ]
     },
     "execution_count": 16,
     "metadata": {},
     "output_type": "execute_result"
    }
   ],
   "source": [
    "cnn.fit(x=training_set, validation_data=test_set, epochs=25)"
   ]
  },
  {
   "cell_type": "code",
   "execution_count": 25,
   "id": "ac396e71",
   "metadata": {},
   "outputs": [
    {
     "data": {
      "text/plain": [
       "{'cats': 0, 'dogs': 1}"
      ]
     },
     "execution_count": 25,
     "metadata": {},
     "output_type": "execute_result"
    }
   ],
   "source": [
    "import numpy as np\n",
    "from keras.preprocessing import image\n",
    "test_image1 = tf.keras.utils.load_img('dataset/single_prediction/cat_or_dog_1.jpg', target_size=(64,64))\n",
    "test_image1 = tf.keras.utils.img_to_array(test_image1)\n",
    "test_image1 = np.expand_dims(test_image1, axis=0)\n",
    "training_set.class_indices"
   ]
  },
  {
   "cell_type": "code",
   "execution_count": 26,
   "id": "ea350e81",
   "metadata": {},
   "outputs": [
    {
     "name": "stdout",
     "output_type": "stream",
     "text": [
      "1/1 [==============================] - 0s 16ms/step\n"
     ]
    },
    {
     "data": {
      "text/plain": [
       "array([[1.]], dtype=float32)"
      ]
     },
     "execution_count": 26,
     "metadata": {},
     "output_type": "execute_result"
    }
   ],
   "source": [
    "result = cnn.predict(test_image1)\n",
    "result"
   ]
  },
  {
   "cell_type": "code",
   "execution_count": 30,
   "id": "e978111a",
   "metadata": {},
   "outputs": [
    {
     "name": "stdout",
     "output_type": "stream",
     "text": [
      "1/1 [==============================] - 0s 14ms/step\n"
     ]
    },
    {
     "data": {
      "text/plain": [
       "array([[0.]], dtype=float32)"
      ]
     },
     "execution_count": 30,
     "metadata": {},
     "output_type": "execute_result"
    }
   ],
   "source": [
    "test_image2 = tf.keras.utils.load_img('dataset/single_prediction/5.jpg', target_size=(64,64))\n",
    "test_image2 = tf.keras.utils.img_to_array(test_image2)\n",
    "test_image2 = np.expand_dims(test_image2, axis=0)\n",
    "result2 = cnn.predict(test_image2)\n",
    "result2"
   ]
  },
  {
   "cell_type": "code",
   "execution_count": null,
   "id": "b4976b5d",
   "metadata": {},
   "outputs": [],
   "source": []
  },
  {
   "cell_type": "code",
   "execution_count": null,
   "id": "40d70caf",
   "metadata": {},
   "outputs": [],
   "source": []
  }
 ],
 "metadata": {
  "kernelspec": {
   "display_name": "Python 3 (ipykernel)",
   "language": "python",
   "name": "python3"
  },
  "language_info": {
   "codemirror_mode": {
    "name": "ipython",
    "version": 3
   },
   "file_extension": ".py",
   "mimetype": "text/x-python",
   "name": "python",
   "nbconvert_exporter": "python",
   "pygments_lexer": "ipython3",
   "version": "3.9.12"
  }
 },
 "nbformat": 4,
 "nbformat_minor": 5
}
